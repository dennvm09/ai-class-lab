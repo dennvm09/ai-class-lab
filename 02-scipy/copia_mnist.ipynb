{
  "nbformat": 4,
  "nbformat_minor": 0,
  "metadata": {
    "file_extension": ".py",
    "kernelspec": {
      "display_name": "Python 3",
      "language": "python",
      "name": "python3"
    },
    "language_info": {
      "codemirror_mode": {
        "name": "ipython",
        "version": 3
      },
      "file_extension": ".py",
      "mimetype": "text/x-python",
      "name": "python",
      "nbconvert_exporter": "python",
      "pygments_lexer": "ipython3",
      "version": "3.7.6-final"
    },
    "mimetype": "text/x-python",
    "name": "python",
    "npconvert_exporter": "python",
    "pygments_lexer": "ipython3",
    "version": 3,
    "colab": {
      "name": "mnist.ipynb",
      "provenance": [],
      "collapsed_sections": []
    }
  },
  "cells": [
    {
      "cell_type": "markdown",
      "metadata": {
        "id": "Tdzoo-cEj0FE",
        "colab_type": "text"
      },
      "source": [
        "# Excercise: MNIST Digits\n",
        "\n",
        "```\n",
        "Integrante 1: <>\n",
        "Integrante 2: <>\n",
        "Integrante 3: <>\n",
        "```\n",
        "\n",
        "[MNIST digits](http://yann.lecun.com/exdb/mnist/) is a dataset of written digits composed of 70000 black and white images. This dataset is a classic amongst people learning to apply machine learning models, specifically to pattern/image recognition. Of the 70K images, 60K are labeled examples and 10K are a validation set. These images are preprocessed so that they may be easily experimented with using machine learning.\n",
        "\n",
        "Lets load a downsized version of this dataset from the scikit-learn package."
      ]
    },
    {
      "cell_type": "code",
      "metadata": {
        "id": "Hde9FPuZj0FG",
        "colab_type": "code",
        "colab": {}
      },
      "source": [
        "from sklearn.datasets import load_digits"
      ],
      "execution_count": null,
      "outputs": []
    },
    {
      "cell_type": "markdown",
      "metadata": {
        "id": "XzfoXS0rj0FM",
        "colab_type": "text"
      },
      "source": [
        "This imports a function that will be used to load the digits. This particular version has 1797 images and each one has been downscaled to 8x8, as opposed to the original size of 28x28."
      ]
    },
    {
      "cell_type": "code",
      "metadata": {
        "id": "gYi7Uqcnj0FM",
        "colab_type": "code",
        "colab": {
          "base_uri": "https://localhost:8080/",
          "height": 255
        },
        "outputId": "9a926b17-5038-470f-c8ad-e4fca36a5a74"
      },
      "source": [
        "digits, target = load_digits(return_X_y=True)\n",
        "\n",
        "def describe_ndarray(ndarr):\n",
        "  print(f'Type: {type(ndarr)}')\n",
        "  print(f'Dimensions: {ndarr.ndim}')\n",
        "  print(f'Size: {ndarr.size}')\n",
        "  print(f'Shape: {ndarr.shape}')\n",
        "  print(f'Type: {ndarr.dtype.name}')\n",
        "  print(f'Item size: {ndarr.itemsize}')\n",
        "  print()\n",
        "\n",
        "describe_ndarray(digits)\n",
        "describe_ndarray(target) #el shape es una lista de "
      ],
      "execution_count": null,
      "outputs": [
        {
          "output_type": "stream",
          "text": [
            "Type: <class 'numpy.ndarray'>\n",
            "Dimensions: 2\n",
            "Size: 115008\n",
            "Shape: (1797, 64)\n",
            "Type: float64\n",
            "Item size: 8\n",
            "\n",
            "Type: <class 'numpy.ndarray'>\n",
            "Dimensions: 1\n",
            "Size: 1797\n",
            "Shape: (1797,)\n",
            "Type: int64\n",
            "Item size: 8\n",
            "\n"
          ],
          "name": "stdout"
        }
      ]
    },
    {
      "cell_type": "markdown",
      "metadata": {
        "id": "oW1zEulKj0FR",
        "colab_type": "text"
      },
      "source": [
        "Here we can see that we have two ndarrays, the first contains 1797 arrays of 64 (flattened 8x8 image) and the second has 1797 numbers, which correspond to the label of the digit. Lets try to visualize this."
      ]
    },
    {
      "cell_type": "code",
      "metadata": {
        "id": "UHIfUUjfj0FR",
        "colab_type": "code",
        "colab": {
          "base_uri": "https://localhost:8080/",
          "height": 306
        },
        "outputId": "81f858f4-09e8-483e-b649-454250066116"
      },
      "source": [
        "print(digits[:4,])\n",
        "print(target[:4,]) #la primera matriz es 0, y asi sucecivamente"
      ],
      "execution_count": null,
      "outputs": [
        {
          "output_type": "stream",
          "text": [
            "[[ 0.  0.  5. 13.  9.  1.  0.  0.  0.  0. 13. 15. 10. 15.  5.  0.  0.  3.\n",
            "  15.  2.  0. 11.  8.  0.  0.  4. 12.  0.  0.  8.  8.  0.  0.  5.  8.  0.\n",
            "   0.  9.  8.  0.  0.  4. 11.  0.  1. 12.  7.  0.  0.  2. 14.  5. 10. 12.\n",
            "   0.  0.  0.  0.  6. 13. 10.  0.  0.  0.]\n",
            " [ 0.  0.  0. 12. 13.  5.  0.  0.  0.  0.  0. 11. 16.  9.  0.  0.  0.  0.\n",
            "   3. 15. 16.  6.  0.  0.  0.  7. 15. 16. 16.  2.  0.  0.  0.  0.  1. 16.\n",
            "  16.  3.  0.  0.  0.  0.  1. 16. 16.  6.  0.  0.  0.  0.  1. 16. 16.  6.\n",
            "   0.  0.  0.  0.  0. 11. 16. 10.  0.  0.]\n",
            " [ 0.  0.  0.  4. 15. 12.  0.  0.  0.  0.  3. 16. 15. 14.  0.  0.  0.  0.\n",
            "   8. 13.  8. 16.  0.  0.  0.  0.  1.  6. 15. 11.  0.  0.  0.  1.  8. 13.\n",
            "  15.  1.  0.  0.  0.  9. 16. 16.  5.  0.  0.  0.  0.  3. 13. 16. 16. 11.\n",
            "   5.  0.  0.  0.  0.  3. 11. 16.  9.  0.]\n",
            " [ 0.  0.  7. 15. 13.  1.  0.  0.  0.  8. 13.  6. 15.  4.  0.  0.  0.  2.\n",
            "   1. 13. 13.  0.  0.  0.  0.  0.  2. 15. 11.  1.  0.  0.  0.  0.  0.  1.\n",
            "  12. 12.  1.  0.  0.  0.  0.  0.  1. 10.  8.  0.  0.  0.  8.  4.  5. 14.\n",
            "   9.  0.  0.  0.  7. 13. 13.  9.  0.  0.]]\n",
            "[0 1 2 3]\n"
          ],
          "name": "stdout"
        }
      ]
    },
    {
      "cell_type": "markdown",
      "metadata": {
        "id": "pDbj1_Xtj0FU",
        "colab_type": "text"
      },
      "source": [
        "These are the first 3 digits, but it's difficult to see the image and verify if they match the labels, lets reshape the data and try again."
      ]
    },
    {
      "cell_type": "code",
      "metadata": {
        "id": "awm1X0owj0FV",
        "colab_type": "code",
        "colab": {
          "base_uri": "https://localhost:8080/",
          "height": 612
        },
        "outputId": "56d3ff2c-02d6-42f3-dc35-e6b0e9bdf9cd"
      },
      "source": [
        "digits_square = digits.reshape(-1, 8, 8) #lo organizo en una matriz de 8 x 8, miro el patrón de números, el 16 es brillante\n",
        "\n",
        "print(digits_square[:4,]) "
      ],
      "execution_count": null,
      "outputs": [
        {
          "output_type": "stream",
          "text": [
            "[[[ 0.  0.  5. 13.  9.  1.  0.  0.]\n",
            "  [ 0.  0. 13. 15. 10. 15.  5.  0.]\n",
            "  [ 0.  3. 15.  2.  0. 11.  8.  0.]\n",
            "  [ 0.  4. 12.  0.  0.  8.  8.  0.]\n",
            "  [ 0.  5.  8.  0.  0.  9.  8.  0.]\n",
            "  [ 0.  4. 11.  0.  1. 12.  7.  0.]\n",
            "  [ 0.  2. 14.  5. 10. 12.  0.  0.]\n",
            "  [ 0.  0.  6. 13. 10.  0.  0.  0.]]\n",
            "\n",
            " [[ 0.  0.  0. 12. 13.  5.  0.  0.]\n",
            "  [ 0.  0.  0. 11. 16.  9.  0.  0.]\n",
            "  [ 0.  0.  3. 15. 16.  6.  0.  0.]\n",
            "  [ 0.  7. 15. 16. 16.  2.  0.  0.]\n",
            "  [ 0.  0.  1. 16. 16.  3.  0.  0.]\n",
            "  [ 0.  0.  1. 16. 16.  6.  0.  0.]\n",
            "  [ 0.  0.  1. 16. 16.  6.  0.  0.]\n",
            "  [ 0.  0.  0. 11. 16. 10.  0.  0.]]\n",
            "\n",
            " [[ 0.  0.  0.  4. 15. 12.  0.  0.]\n",
            "  [ 0.  0.  3. 16. 15. 14.  0.  0.]\n",
            "  [ 0.  0.  8. 13.  8. 16.  0.  0.]\n",
            "  [ 0.  0.  1.  6. 15. 11.  0.  0.]\n",
            "  [ 0.  1.  8. 13. 15.  1.  0.  0.]\n",
            "  [ 0.  9. 16. 16.  5.  0.  0.  0.]\n",
            "  [ 0.  3. 13. 16. 16. 11.  5.  0.]\n",
            "  [ 0.  0.  0.  3. 11. 16.  9.  0.]]\n",
            "\n",
            " [[ 0.  0.  7. 15. 13.  1.  0.  0.]\n",
            "  [ 0.  8. 13.  6. 15.  4.  0.  0.]\n",
            "  [ 0.  2.  1. 13. 13.  0.  0.  0.]\n",
            "  [ 0.  0.  2. 15. 11.  1.  0.  0.]\n",
            "  [ 0.  0.  0.  1. 12. 12.  1.  0.]\n",
            "  [ 0.  0.  0.  0.  1. 10.  8.  0.]\n",
            "  [ 0.  0.  8.  4.  5. 14.  9.  0.]\n",
            "  [ 0.  0.  7. 13. 13.  9.  0.  0.]]]\n"
          ],
          "name": "stdout"
        }
      ]
    },
    {
      "cell_type": "markdown",
      "metadata": {
        "id": "CTjh6S2Qj0FY",
        "colab_type": "text"
      },
      "source": [
        "Now that we have squared the digits, it's easier to see if they're numbers, but we can do something better with matplotlib."
      ]
    },
    {
      "cell_type": "code",
      "metadata": {
        "id": "0EvDir7jj0FZ",
        "colab_type": "code",
        "colab": {}
      },
      "source": [
        "import matplotlib.pyplot as plt"
      ],
      "execution_count": null,
      "outputs": []
    },
    {
      "cell_type": "code",
      "metadata": {
        "id": "faDFINY2j0Fb",
        "colab_type": "code",
        "colab": {
          "base_uri": "https://localhost:8080/",
          "height": 282
        },
        "outputId": "fbf977c5-3248-49b4-8d89-9c4f2ef50b2d"
      },
      "source": [
        "plt.gray() \n",
        "\n",
        "plt.figure()\n",
        "\n",
        "plt.subplot(2,2,1)\n",
        "plt.imshow(digits_square[0]) #me recibe una matriz, y lo pone como imagen, display any data en image, se puede usar sin el subplot\n",
        "\n",
        "plt.subplot(2,2,2)\n",
        "plt.imshow(digits_square[1])\n",
        "\n",
        "plt.subplot(2,2,3)\n",
        "plt.imshow(digits_square[2])\n",
        "\n",
        "plt.subplot(2,2,4)\n",
        "plt.imshow(digits_square[3])\n",
        "\n",
        "plt.show()\n"
      ],
      "execution_count": null,
      "outputs": [
        {
          "output_type": "display_data",
          "data": {
            "text/plain": [
              "<Figure size 432x288 with 0 Axes>"
            ]
          },
          "metadata": {
            "tags": []
          }
        },
        {
          "output_type": "display_data",
          "data": {
            "image/png": "[encoded data removed]",
            "text/plain": [
              "<Figure size 432x288 with 4 Axes>"
            ]
          },
          "metadata": {
            "tags": [],
            "needs_background": "light"
          }
        }
      ]
    },
    {
      "cell_type": "markdown",
      "metadata": {
        "id": "dbbrfpT7j0Fe",
        "colab_type": "text"
      },
      "source": [
        "Now we can easily see that these are in fact numbers and they correspond to the digits in `target`."
      ]
    },
    {
      "cell_type": "markdown",
      "metadata": {
        "id": "MvYq_pPWj0Ff",
        "colab_type": "text"
      },
      "source": [
        "Now, imagine a new person writes a new digit that is not in the dataset and we want to automatically predict what this digit is by looking just at the image. For this purpose, we must develop an algorithm that can tell us this.\n",
        "\n",
        "Now, suppose we've written the algorithm, how do we test it without having the new images? Well, we can use the existing labels in order to know what the right answer is and then compare that to our algorithms answer. We will repeat the process for a random 30% of all digits and calculate the overall accuracy of our algorithm by: (correct answers)/(total).\n",
        "\n",
        "In short, you need to create a function that takes N number of digits and outputs an ndarray of (N,) with the predictions for each digit, all of these will be compared against the real values.\n",
        "\n",
        "In order to make this easier, we will only be comparing two classess of digits and classifing wether a digit is one of the two, you can choose which two digits to classify."
      ]
    },
    {
      "cell_type": "code",
      "metadata": {
        "id": "uTw28Jykj0Ff",
        "colab_type": "code",
        "colab": {}
      },
      "source": [
        "import random\n",
        "import numpy as np"
      ],
      "execution_count": null,
      "outputs": []
    },
    {
      "cell_type": "code",
      "metadata": {
        "id": "gmLFwPoDj0Fi",
        "colab_type": "code",
        "colab": {
          "base_uri": "https://localhost:8080/",
          "height": 452
        },
        "outputId": "0f460566-85da-48b5-936e-52fe29e72892"
      },
      "source": [
        "def generate_random_indices(percentage, class1, class2):\n",
        "    indices_of_class1 = np.nonzero(target == class1)[0]\n",
        "    indices_of_class2 = np.nonzero(target == class2)[0]\n",
        "\n",
        "    min_length = min(len(indices_of_class1), len(indices_of_class2)) - 1\n",
        "\n",
        "    indices_of_class = np.concatenate((indices_of_class1[:min_length], indices_of_class2[:min_length]))\n",
        "\n",
        "    return random.sample(indices_of_class.tolist(),k=int(len(indices_of_class)*percentage)) #para sacar los indices aleatorios\n",
        "\n",
        "def get_random_data(class1, class2):\n",
        "    indices = generate_random_indices(0.3, class1, class2) \n",
        "    return digits[indices,:], target[indices]\n",
        "\n",
        "digits_sample, target_sample = get_random_data(2,8) #usarla para sacr digitos de dos clases diferente. saqueme datos random de las clases 2 y 8\n",
        "print(digits_sample) #digitos\n",
        "print(target_sample) #etiquetas\n",
        "plt.imshow(digits_sample.reshape((-1, 8, 8))[0]) #8x8 por que tiene 64 digitos\n"
      ],
      "execution_count": null,
      "outputs": [
        {
          "output_type": "stream",
          "text": [
            "[[ 0.  0. 11. ... 16. 16.  6.]\n",
            " [ 0.  0.  4. ... 16.  1.  0.]\n",
            " [ 0.  1. 15. ...  1.  0.  0.]\n",
            " ...\n",
            " [ 0.  1. 15. ...  5.  1.  0.]\n",
            " [ 0.  0.  1. ...  2.  0.  0.]\n",
            " [ 0.  0.  2. ...  2.  0.  0.]]\n",
            "[2 8 8 8 2 8 2 8 8 8 2 2 8 2 2 2 8 2 8 2 2 8 2 8 8 2 2 2 2 2 2 8 2 8 8 2 2\n",
            " 2 2 8 8 2 2 2 8 8 2 8 8 8 8 8 2 8 2 2 2 8 8 2 8 2 2 8 8 2 8 8 2 2 8 8 8 8\n",
            " 2 2 2 8 8 2 2 2 2 8 2 8 8 2 8 8 2 8 2 8 2 2 8 8 2 8 2 8 8]\n"
          ],
          "name": "stdout"
        },
        {
          "output_type": "execute_result",
          "data": {
            "text/plain": [
              "<matplotlib.image.AxesImage at 0x7fabd32f6ef0>"
            ]
          },
          "metadata": {
            "tags": []
          },
          "execution_count": 80
        },
        {
          "output_type": "display_data",
          "data": {
            "image/png": "[encoded data removed]",
            "text/plain": [
              "<Figure size 432x288 with 1 Axes>"
            ]
          },
          "metadata": {
            "tags": [],
            "needs_background": "light"
          }
        }
      ]
    },
    {
      "cell_type": "markdown",
      "metadata": {
        "id": "_Su2EHEvj0Fk",
        "colab_type": "text"
      },
      "source": [
        "Here we have applied some functions to extract a random 30% of the digits along with their target values, these digits will be the input to your algorithm, which you should complete below."
      ]
    },
    {
      "cell_type": "code",
      "metadata": {
        "id": "R5ly0qKQj0Fk",
        "colab_type": "code",
        "colab": {}
      },
      "source": [
        "def predict(digs): # TODO: Complete the function with an algorithm that must take digits and for each one return a multidimensional array containing the predicted labels\n",
        "    cuadradito = digs.reshape(-1, 8, 8)\n",
        "    pre = np.arange(digs.shape[0])\n",
        "    index = 0\n",
        "\n",
        "    for i in cuadradito: \n",
        "      cant_col_blancas = 0\n",
        "      cant_col_negras = 0\n",
        "\n",
        "      limit_1 = 0 \n",
        "      limit_2 = 1\n",
        "\n",
        "      for col in range(1,9,1): \n",
        "        column = i[0:8, limit_1:limit_2]\n",
        "        prom = np.average(column)\n",
        "        if prom > 14:\n",
        "          cant_col_blancas += 1\n",
        "        elif prom==0 or prom <=4:\n",
        "          cant_col_negras += 1\n",
        "        limit_1 += 1\n",
        "        limit_2 += 1\n",
        "\n",
        "      if (cant_col_blancas==2 or cant_col_blancas==1) and cant_col_negras>=3:\n",
        "        pre[index] = 2\n",
        "      elif cant_col_blancas==0 or true:\n",
        "        pre[index] = 8\n",
        "      index += 1\n",
        "      cant_col_blancas = 0\n",
        "      cant_col_negras = 0\n",
        "\n",
        "    return pre"
      ],
      "execution_count": null,
      "outputs": []
    },
    {
      "cell_type": "markdown",
      "metadata": {
        "id": "3bakBIRnj0Fn",
        "colab_type": "text"
      },
      "source": [
        "We will now define the function that will calculate our accuracy."
      ]
    },
    {
      "cell_type": "code",
      "metadata": {
        "id": "IuwGNEqaj0Fn",
        "colab_type": "code",
        "colab": {}
      },
      "source": [
        "def accuracy(predictions): #medir la exactitud, cuantas predicciones tuvieron bien con respecto a las reales\n",
        "    return np.count_nonzero(target_sample == predictions)/len(target_sample) "
      ],
      "execution_count": null,
      "outputs": []
    },
    {
      "cell_type": "markdown",
      "metadata": {
        "id": "mlsfrodLj0Fp",
        "colab_type": "text"
      },
      "source": [
        "This function compares which predictions are equal to the real value and divides by the total in the sample. The following code will test your accuracy."
      ]
    },
    {
      "cell_type": "code",
      "metadata": {
        "id": "4aEEGVaQj0Fq",
        "colab_type": "code",
        "colab": {
          "base_uri": "https://localhost:8080/",
          "height": 34
        },
        "outputId": "109da867-d0a3-43cf-bf5d-d58b3f4ba178"
      },
      "source": [
        "accuracy(predict(digits_sample))"
      ],
      "execution_count": null,
      "outputs": [
        {
          "output_type": "execute_result",
          "data": {
            "text/plain": [
              "0.4854368932038835"
            ]
          },
          "metadata": {
            "tags": []
          },
          "execution_count": 140
        }
      ]
    },
    {
      "cell_type": "code",
      "metadata": {
        "id": "IerBi-oFj0Fs",
        "colab_type": "code",
        "colab": {
          "base_uri": "https://localhost:8080/",
          "height": 384
        },
        "outputId": "55d7890e-20c5-435c-b5fe-ecf781dda11d"
      },
      "source": [
        "print(predict(digits_sample))\n",
        "print(target_sample)\n",
        "plt.imshow(digits_sample.reshape((-1, 8, 8))[4])"
      ],
      "execution_count": null,
      "outputs": [
        {
          "output_type": "stream",
          "text": [
            "[8 8 8 8 8 8 8 8 8 2 8 8 8 8 8 8 8 8 8 8 8 8 8 8 2 8 8 8 8 8 2 8 8 2 8 8 8\n",
            " 8 8 8 2 2 8 8 8 8 8 8 8 8 8 8 8 8 8 8 8 2 8 8 8 8 2 8 8 8 8 8 8 8 8 8 8 2\n",
            " 8 8 2 8 8 2 8 8 8 8 8 8 8 8 8 8 8 8 8 8 8 8 8 8 8 8 8 8 8]\n",
            "[2 8 8 8 2 8 2 8 8 8 2 2 8 2 2 2 8 2 8 2 2 8 2 8 8 2 2 2 2 2 2 8 2 8 8 2 2\n",
            " 2 2 8 8 2 2 2 8 8 2 8 8 8 8 8 2 8 2 2 2 8 8 2 8 2 2 8 8 2 8 8 2 2 8 8 8 8\n",
            " 2 2 2 8 8 2 2 2 2 8 2 8 8 2 8 8 2 8 2 8 2 2 8 8 2 8 2 8 8]\n"
          ],
          "name": "stdout"
        },
        {
          "output_type": "execute_result",
          "data": {
            "text/plain": [
              "<matplotlib.image.AxesImage at 0x7fabd30bf320>"
            ]
          },
          "metadata": {
            "tags": []
          },
          "execution_count": 141
        },
        {
          "output_type": "display_data",
          "data": {
            "image/png": "[encoded data removed]",
            "text/plain": [
              "<Figure size 432x288 with 1 Axes>"
            ]
          },
          "metadata": {
            "tags": [],
            "needs_background": "light"
          }
        }
      ]
    }
  ]
}